{
 "cells": [
  {
   "cell_type": "code",
   "execution_count": null,
   "metadata": {},
   "outputs": [],
   "source": [
    "import pandas as pd\n",
    "from prophet import Prophet\n",
    "import numpy as np\n",
    "from sklearn.metrics import mean_squared_error\n",
    "import math\n",
    "import matplotlib.pyplot as plt"
   ]
  },
  {
   "cell_type": "code",
   "execution_count": null,
   "metadata": {},
   "outputs": [],
   "source": [
    "np.random.seed(0)"
   ]
  },
  {
   "cell_type": "code",
   "execution_count": null,
   "metadata": {},
   "outputs": [],
   "source": [
    "def create_train_test(stock):\n",
    "    stock = stock.rename(columns={'Date':'ds', stock.columns[1]:'y'})\n",
    "\n",
    "\n",
    "    train_size = int(len(stock) * 0.8)\n",
    "    test_size = len(stock) - train_size\n",
    "    train, test = stock[:train_size], stock[train_size:]\n",
    "    \n",
    "    return stock, train, test"
   ]
  },
  {
   "cell_type": "code",
   "execution_count": null,
   "metadata": {},
   "outputs": [],
   "source": [
    "def prophet_model(changepoint_prior_scale=0.05, seasonality_prior_scale=10., interval_width= 0.8):\n",
    "    model = Prophet(changepoint_prior_scale=changepoint_prior_scale, \n",
    "                    seasonality_prior_scale=seasonality_prior_scale,\n",
    "                    interval_width=interval_width)\n",
    "    model.fit(train)\n",
    "    future = model.make_future_dataframe(periods=1444, freq ='d')\n",
    "    future = future[future['ds'].isin( stock['ds'] )]\n",
    "    forecast = model.predict(future)\n",
    "\n",
    "    fig = model.plot(forecast)\n",
    "    ax = fig.gca()\n",
    "    ax.plot(stock[\"ds\"], stock[\"y\"])\n",
    "    ax.set_xlabel('Date')\n",
    "    ax.set_ylabel('Price')\n",
    "    ax.set_title('')\n",
    "\n",
    "    print(\"Train - Root Mean Squared Error (RMSE):\", math.sqrt(mean_squared_error(y_true = train[\"y\"], y_pred = forecast['yhat'][:len(train)])))\n",
    "    print(\"Test - Root Mean Squared Error (RMSE):\", math.sqrt(mean_squared_error(y_true = test[\"y\"], y_pred = forecast['yhat'][len(train):])))"
   ]
  },
  {
   "cell_type": "code",
   "execution_count": null,
   "metadata": {},
   "outputs": [],
   "source": [
    "## Load Data\n",
    "df = pd.read_csv('Stocks Data.csv', header = 1)\n",
    "df = df.iloc[1:, :].rename(columns={'Symbols': 'Date'}).reset_index().drop('index',axis=1)\n",
    "df.Date = pd.to_datetime(df.Date)"
   ]
  },
  {
   "cell_type": "code",
   "execution_count": null,
   "metadata": {},
   "outputs": [],
   "source": [
    "# Separate dataframe by stock\n",
    "mrin = df[['Date', 'MRIN']].dropna()\n",
    "mxl = df[['Date', 'MXL']].dropna()\n",
    "agys = df[['Date', 'AGYS']]\n",
    "dell = pd.read_csv('DELL.csv')[['Date', 'Close']]\n",
    "aapl = pd.read_csv('AAPL.csv')[['Date', 'Close']]\n",
    "dell.Date = pd.to_datetime(dell.Date)\n",
    "aapl.Date = pd.to_datetime(aapl.Date)\n",
    "\n",
    "stocks = [aapl, mrin, mxl, dell, agys]"
   ]
  },
  {
   "cell_type": "code",
   "execution_count": null,
   "metadata": {},
   "outputs": [],
   "source": [
    "stock.head()"
   ]
  },
  {
   "cell_type": "markdown",
   "metadata": {},
   "source": [
    "## MRIN"
   ]
  },
  {
   "cell_type": "code",
   "execution_count": null,
   "metadata": {},
   "outputs": [],
   "source": [
    "stock, train, test = create_train_test(mrin)"
   ]
  },
  {
   "cell_type": "code",
   "execution_count": null,
   "metadata": {},
   "outputs": [],
   "source": [
    "prophet_model(changepoint_prior_scale=0.5, seasonality_prior_scale=0.0001, interval_width=0.2)"
   ]
  },
  {
   "cell_type": "markdown",
   "metadata": {},
   "source": [
    "## AAPL"
   ]
  },
  {
   "cell_type": "code",
   "execution_count": null,
   "metadata": {},
   "outputs": [],
   "source": [
    "stock, train, test = create_train_test(aapl)"
   ]
  },
  {
   "cell_type": "code",
   "execution_count": null,
   "metadata": {
    "scrolled": false
   },
   "outputs": [],
   "source": [
    "prophet_model(changepoint_prior_scale=0.8, seasonality_prior_scale=0.1, interval_width=0.3)"
   ]
  },
  {
   "cell_type": "markdown",
   "metadata": {},
   "source": [
    "## MXL"
   ]
  },
  {
   "cell_type": "code",
   "execution_count": null,
   "metadata": {},
   "outputs": [],
   "source": [
    "stock, train, test = create_train_test(mxl)"
   ]
  },
  {
   "cell_type": "code",
   "execution_count": null,
   "metadata": {},
   "outputs": [],
   "source": [
    "prophet_model(seasonality_prior_scale=0.00007)"
   ]
  },
  {
   "cell_type": "markdown",
   "metadata": {},
   "source": [
    "## DELL"
   ]
  },
  {
   "cell_type": "code",
   "execution_count": null,
   "metadata": {},
   "outputs": [],
   "source": [
    "stock, train, test = create_train_test(dell)"
   ]
  },
  {
   "cell_type": "code",
   "execution_count": null,
   "metadata": {},
   "outputs": [],
   "source": [
    "prophet_model(changepoint_prior_scale=8, seasonality_prior_scale=0.4, interval_width=0.2)"
   ]
  },
  {
   "cell_type": "markdown",
   "metadata": {},
   "source": [
    "## AGYS"
   ]
  },
  {
   "cell_type": "code",
   "execution_count": null,
   "metadata": {},
   "outputs": [],
   "source": [
    "stock, train, test = create_train_test(agys)"
   ]
  },
  {
   "cell_type": "code",
   "execution_count": null,
   "metadata": {
    "scrolled": true
   },
   "outputs": [],
   "source": [
    "prophet_model(changepoint_prior_scale=9, seasonality_prior_scale=0.7, interval_width=0.2)"
   ]
  },
  {
   "cell_type": "code",
   "execution_count": null,
   "metadata": {},
   "outputs": [],
   "source": []
  }
 ],
 "metadata": {
  "kernelspec": {
   "display_name": "Python 3",
   "language": "python",
   "name": "python3"
  },
  "language_info": {
   "codemirror_mode": {
    "name": "ipython",
    "version": 3
   },
   "file_extension": ".py",
   "mimetype": "text/x-python",
   "name": "python",
   "nbconvert_exporter": "python",
   "pygments_lexer": "ipython3",
   "version": "3.8.3"
  }
 },
 "nbformat": 4,
 "nbformat_minor": 4
}
